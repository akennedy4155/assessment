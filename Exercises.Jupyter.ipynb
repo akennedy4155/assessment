{
 "cells": [
  {
   "cell_type": "markdown",
   "metadata": {},
   "source": [
    "# Jupyter Exercises\n",
    "[Jupyter](https://jupyter.org/) is a great tool for (most commonly) interactively running Python code on data and providing embedded Markdown documentation. If you have a local Jupyter instance (or have an interest in going through the process of setting one up), feel free to use it. Otherwise, we would recommend using [Try Jupyter](https://jupyter.org/try) with the **Try Classic Notebook** option. Just take care to export/backup your work on a frequent interval in case the instance is deprovisioned.\n",
    "\n",
    "Alternatively, feel free to write standalone Python code that can be executed via the CLI. We think pretty highly of the Notebook-based approach, though, and believe that you'll enjoy that approach, too.\n",
    "\n",
    "Here's a process that you can use with Try Jupyter to get up and running:\n",
    "\n",
    "1. [https://jupyter.org/try](https://jupyter.org/try)\n",
    "1. Select ***Try Classic Notebook***\n",
    "1. Once your Jupyter instance comes up, open the ***File => Open...*** menu option and upload the following files that we've included:\n",
    "    * `Exercises.Jupyter.ipynb`\n",
    "    * `show_titles.csv`\n",
    "1. Once uploaded, open `Exercises.Jupyter.ipynb`. If you've since left the ***Files*** tab, you can return via ***File => Open...***\n",
    "1. Select the ***Cell => Run All*** menu option to execute the current statements in the notebook\n",
    "1. Read through the Notebook and follow the instructions\n",
    "\n",
    "Once you're done with the exercises, use ***File => Download as => Notebook (.ipynb)*** to download a copy of your notebook. Include this downloaded file in your submissions back to HealthMine.\n",
    "\n",
    "# Dataset\n",
    "Included alongside this file is a CSV of a public Netflix show dataset that we'll be using for the following exercises. Feel free to profile the dataset using any tool of your choosing to become familiar with it.\n",
    "\n",
    "Given that the exercises below will be using the [pandas](https://pandas.pydata.org/) Python package, we'll go ahead and load the file for you and output some basic dataset characteristics."
   ]
  },
  {
   "cell_type": "code",
   "execution_count": null,
   "metadata": {},
   "outputs": [],
   "source": [
    "import pandas\n",
    "\n",
    "df = pandas.read_csv('show_titles.csv', sep = '|')"
   ]
  },
  {
   "cell_type": "code",
   "execution_count": null,
   "metadata": {},
   "outputs": [],
   "source": [
    "print('Number of rows: %d' % len(df.axes[0]))\n",
    "print('Number of columns: %d' % len(df.axes[1]))"
   ]
  },
  {
   "cell_type": "code",
   "execution_count": null,
   "metadata": {},
   "outputs": [],
   "source": [
    "print(df.dtypes)"
   ]
  },
  {
   "cell_type": "code",
   "execution_count": null,
   "metadata": {},
   "outputs": [],
   "source": [
    "df.head()"
   ]
  },
  {
   "cell_type": "markdown",
   "metadata": {},
   "source": [
    "# Exercises"
   ]
  },
  {
   "cell_type": "markdown",
   "metadata": {},
   "source": [
    "Using the existing `df` DataFrame reference as a starting point, write Python statements that answer the following questions:\n",
    "\n",
    "---\n",
    "### When considering all of the columns, how many duplicated rows are there?\n",
    "\n",
    "_The first occurrence of a duplicated row should not be counted. Stated another way, if there are only two rows that are identical in the entire dataset, then the answer would be 1._"
   ]
  },
  {
   "cell_type": "code",
   "execution_count": null,
   "metadata": {},
   "outputs": [],
   "source": [
    "# Add Python code here to answer the first question"
   ]
  },
  {
   "cell_type": "markdown",
   "metadata": {},
   "source": [
    "---\n",
    "### How many unique TV shows were released in the UK in 2016?\n",
    "\n",
    "_If a TV show was released in multiple countries, then they should be considered independently._"
   ]
  },
  {
   "cell_type": "code",
   "execution_count": null,
   "metadata": {},
   "outputs": [],
   "source": [
    "# Add Python code here to answer the second question"
   ]
  },
  {
   "cell_type": "markdown",
   "metadata": {},
   "source": [
    "---\n",
    "### List the top 5 directors that directed the most action movies in order of the number of movies directed.\n",
    "\n",
    "_If more than one person directed a given movie, then they should be counted individually._"
   ]
  },
  {
   "cell_type": "code",
   "execution_count": null,
   "metadata": {},
   "outputs": [],
   "source": [
    "# Add Python code here to answer the third question"
   ]
  }
 ],
 "metadata": {
  "kernelspec": {
   "display_name": "Python 3",
   "language": "python",
   "name": "python3"
  },
  "language_info": {
   "codemirror_mode": {
    "name": "ipython",
    "version": 3
   },
   "file_extension": ".py",
   "mimetype": "text/x-python",
   "name": "python",
   "nbconvert_exporter": "python",
   "pygments_lexer": "ipython3",
   "version": "3.6.10"
  }
 },
 "nbformat": 4,
 "nbformat_minor": 4
}
